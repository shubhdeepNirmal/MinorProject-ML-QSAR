{
  "cells": [
    {
      "cell_type": "markdown",
      "source": [
        "### Import libraries"
      ],
      "metadata": {
        "id": "qGpDioVUJRoP"
      }
    },
    {
      "cell_type": "code",
      "execution_count": 9,
      "metadata": {
        "id": "G4n8_1DBqAw7"
      },
      "outputs": [],
      "source": [
        "import pandas as pd\n",
        "import seaborn as sns\n",
        "import numpy as np\n",
        "import matplotlib.pyplot as plt\n",
        "from sklearn.decomposition import FactorAnalysis\n",
        "from sklearn.metrics import roc_curve, auc\n",
        "from sklearn.preprocessing import LabelEncoder\n",
        "from imblearn.over_sampling import SMOTE\n",
        "from imblearn.over_sampling import ADASYN\n",
        "from sklearn.metrics import accuracy_score\n",
        "from sklearn.metrics import classification_report\n",
        "import xgboost as xgb\n",
        "from sklearn.metrics import log_loss\n",
        "from sklearn.neighbors import KNeighborsClassifier\n",
        "from sklearn.ensemble import RandomForestClassifier\n",
        "from sklearn.model_selection import train_test_split"
      ]
    },
    {
      "cell_type": "code",
      "source": [
        "df = pd.read_csv(\"qsar_oral_toxicity.csv\", delimiter = \";\", header = None)\n",
        "df"
      ],
      "metadata": {
        "colab": {
          "base_uri": "https://localhost:8080/",
          "height": 423
        },
        "id": "TFOAC0TaJc-i",
        "outputId": "c8845ecf-ec91-465e-955a-a9ca99c2e347"
      },
      "execution_count": 10,
      "outputs": [
        {
          "output_type": "execute_result",
          "data": {
            "text/plain": [
              "      0     1     2     3     4     5     6     7     8     9     ...  1015  \\\n",
              "0        0     0     0     0     0     0     0     0     0     0  ...     0   \n",
              "1        0     0     1     0     0     0     0     0     0     0  ...     0   \n",
              "2        0     0     0     0     0     0     0     0     0     0  ...     0   \n",
              "3        0     0     0     0     0     0     0     1     0     0  ...     0   \n",
              "4        0     0     0     0     0     0     0     0     0     0  ...     0   \n",
              "...    ...   ...   ...   ...   ...   ...   ...   ...   ...   ...  ...   ...   \n",
              "8987     0     0     0     0     0     0     0     1     0     0  ...     0   \n",
              "8988     0     1     0     0     0     1     0     1     0     0  ...     0   \n",
              "8989     0     0     0     0     0     0     0     1     0     0  ...     0   \n",
              "8990     0     0     0     0     0     0     0     0     0     0  ...     0   \n",
              "8991     0     0     1     0     0     0     0     0     0     0  ...     1   \n",
              "\n",
              "      1016  1017  1018  1019  1020  1021  1022  1023      1024  \n",
              "0        0     0     0     0     0     0     0     0  negative  \n",
              "1        0     0     0     0     0     0     0     0  negative  \n",
              "2        0     1     0     0     0     0     0     0  negative  \n",
              "3        0     0     0     0     0     0     0     0  negative  \n",
              "4        0     0     0     0     0     0     0     0  negative  \n",
              "...    ...   ...   ...   ...   ...   ...   ...   ...       ...  \n",
              "8987     0     0     1     0     0     0     0     0  negative  \n",
              "8988     0     0     1     0     0     0     0     0  negative  \n",
              "8989     0     0     0     0     0     0     1     0  negative  \n",
              "8990     0     0     0     0     0     0     0     0  negative  \n",
              "8991     0     0     0     0     0     0     0     0  negative  \n",
              "\n",
              "[8992 rows x 1025 columns]"
            ],
            "text/html": [
              "\n",
              "  <div id=\"df-4ea750eb-8477-493f-99f5-977354dc49e3\">\n",
              "    <div class=\"colab-df-container\">\n",
              "      <div>\n",
              "<style scoped>\n",
              "    .dataframe tbody tr th:only-of-type {\n",
              "        vertical-align: middle;\n",
              "    }\n",
              "\n",
              "    .dataframe tbody tr th {\n",
              "        vertical-align: top;\n",
              "    }\n",
              "\n",
              "    .dataframe thead th {\n",
              "        text-align: right;\n",
              "    }\n",
              "</style>\n",
              "<table border=\"1\" class=\"dataframe\">\n",
              "  <thead>\n",
              "    <tr style=\"text-align: right;\">\n",
              "      <th></th>\n",
              "      <th>0</th>\n",
              "      <th>1</th>\n",
              "      <th>2</th>\n",
              "      <th>3</th>\n",
              "      <th>4</th>\n",
              "      <th>5</th>\n",
              "      <th>6</th>\n",
              "      <th>7</th>\n",
              "      <th>8</th>\n",
              "      <th>9</th>\n",
              "      <th>...</th>\n",
              "      <th>1015</th>\n",
              "      <th>1016</th>\n",
              "      <th>1017</th>\n",
              "      <th>1018</th>\n",
              "      <th>1019</th>\n",
              "      <th>1020</th>\n",
              "      <th>1021</th>\n",
              "      <th>1022</th>\n",
              "      <th>1023</th>\n",
              "      <th>1024</th>\n",
              "    </tr>\n",
              "  </thead>\n",
              "  <tbody>\n",
              "    <tr>\n",
              "      <th>0</th>\n",
              "      <td>0</td>\n",
              "      <td>0</td>\n",
              "      <td>0</td>\n",
              "      <td>0</td>\n",
              "      <td>0</td>\n",
              "      <td>0</td>\n",
              "      <td>0</td>\n",
              "      <td>0</td>\n",
              "      <td>0</td>\n",
              "      <td>0</td>\n",
              "      <td>...</td>\n",
              "      <td>0</td>\n",
              "      <td>0</td>\n",
              "      <td>0</td>\n",
              "      <td>0</td>\n",
              "      <td>0</td>\n",
              "      <td>0</td>\n",
              "      <td>0</td>\n",
              "      <td>0</td>\n",
              "      <td>0</td>\n",
              "      <td>negative</td>\n",
              "    </tr>\n",
              "    <tr>\n",
              "      <th>1</th>\n",
              "      <td>0</td>\n",
              "      <td>0</td>\n",
              "      <td>1</td>\n",
              "      <td>0</td>\n",
              "      <td>0</td>\n",
              "      <td>0</td>\n",
              "      <td>0</td>\n",
              "      <td>0</td>\n",
              "      <td>0</td>\n",
              "      <td>0</td>\n",
              "      <td>...</td>\n",
              "      <td>0</td>\n",
              "      <td>0</td>\n",
              "      <td>0</td>\n",
              "      <td>0</td>\n",
              "      <td>0</td>\n",
              "      <td>0</td>\n",
              "      <td>0</td>\n",
              "      <td>0</td>\n",
              "      <td>0</td>\n",
              "      <td>negative</td>\n",
              "    </tr>\n",
              "    <tr>\n",
              "      <th>2</th>\n",
              "      <td>0</td>\n",
              "      <td>0</td>\n",
              "      <td>0</td>\n",
              "      <td>0</td>\n",
              "      <td>0</td>\n",
              "      <td>0</td>\n",
              "      <td>0</td>\n",
              "      <td>0</td>\n",
              "      <td>0</td>\n",
              "      <td>0</td>\n",
              "      <td>...</td>\n",
              "      <td>0</td>\n",
              "      <td>0</td>\n",
              "      <td>1</td>\n",
              "      <td>0</td>\n",
              "      <td>0</td>\n",
              "      <td>0</td>\n",
              "      <td>0</td>\n",
              "      <td>0</td>\n",
              "      <td>0</td>\n",
              "      <td>negative</td>\n",
              "    </tr>\n",
              "    <tr>\n",
              "      <th>3</th>\n",
              "      <td>0</td>\n",
              "      <td>0</td>\n",
              "      <td>0</td>\n",
              "      <td>0</td>\n",
              "      <td>0</td>\n",
              "      <td>0</td>\n",
              "      <td>0</td>\n",
              "      <td>1</td>\n",
              "      <td>0</td>\n",
              "      <td>0</td>\n",
              "      <td>...</td>\n",
              "      <td>0</td>\n",
              "      <td>0</td>\n",
              "      <td>0</td>\n",
              "      <td>0</td>\n",
              "      <td>0</td>\n",
              "      <td>0</td>\n",
              "      <td>0</td>\n",
              "      <td>0</td>\n",
              "      <td>0</td>\n",
              "      <td>negative</td>\n",
              "    </tr>\n",
              "    <tr>\n",
              "      <th>4</th>\n",
              "      <td>0</td>\n",
              "      <td>0</td>\n",
              "      <td>0</td>\n",
              "      <td>0</td>\n",
              "      <td>0</td>\n",
              "      <td>0</td>\n",
              "      <td>0</td>\n",
              "      <td>0</td>\n",
              "      <td>0</td>\n",
              "      <td>0</td>\n",
              "      <td>...</td>\n",
              "      <td>0</td>\n",
              "      <td>0</td>\n",
              "      <td>0</td>\n",
              "      <td>0</td>\n",
              "      <td>0</td>\n",
              "      <td>0</td>\n",
              "      <td>0</td>\n",
              "      <td>0</td>\n",
              "      <td>0</td>\n",
              "      <td>negative</td>\n",
              "    </tr>\n",
              "    <tr>\n",
              "      <th>...</th>\n",
              "      <td>...</td>\n",
              "      <td>...</td>\n",
              "      <td>...</td>\n",
              "      <td>...</td>\n",
              "      <td>...</td>\n",
              "      <td>...</td>\n",
              "      <td>...</td>\n",
              "      <td>...</td>\n",
              "      <td>...</td>\n",
              "      <td>...</td>\n",
              "      <td>...</td>\n",
              "      <td>...</td>\n",
              "      <td>...</td>\n",
              "      <td>...</td>\n",
              "      <td>...</td>\n",
              "      <td>...</td>\n",
              "      <td>...</td>\n",
              "      <td>...</td>\n",
              "      <td>...</td>\n",
              "      <td>...</td>\n",
              "      <td>...</td>\n",
              "    </tr>\n",
              "    <tr>\n",
              "      <th>8987</th>\n",
              "      <td>0</td>\n",
              "      <td>0</td>\n",
              "      <td>0</td>\n",
              "      <td>0</td>\n",
              "      <td>0</td>\n",
              "      <td>0</td>\n",
              "      <td>0</td>\n",
              "      <td>1</td>\n",
              "      <td>0</td>\n",
              "      <td>0</td>\n",
              "      <td>...</td>\n",
              "      <td>0</td>\n",
              "      <td>0</td>\n",
              "      <td>0</td>\n",
              "      <td>1</td>\n",
              "      <td>0</td>\n",
              "      <td>0</td>\n",
              "      <td>0</td>\n",
              "      <td>0</td>\n",
              "      <td>0</td>\n",
              "      <td>negative</td>\n",
              "    </tr>\n",
              "    <tr>\n",
              "      <th>8988</th>\n",
              "      <td>0</td>\n",
              "      <td>1</td>\n",
              "      <td>0</td>\n",
              "      <td>0</td>\n",
              "      <td>0</td>\n",
              "      <td>1</td>\n",
              "      <td>0</td>\n",
              "      <td>1</td>\n",
              "      <td>0</td>\n",
              "      <td>0</td>\n",
              "      <td>...</td>\n",
              "      <td>0</td>\n",
              "      <td>0</td>\n",
              "      <td>0</td>\n",
              "      <td>1</td>\n",
              "      <td>0</td>\n",
              "      <td>0</td>\n",
              "      <td>0</td>\n",
              "      <td>0</td>\n",
              "      <td>0</td>\n",
              "      <td>negative</td>\n",
              "    </tr>\n",
              "    <tr>\n",
              "      <th>8989</th>\n",
              "      <td>0</td>\n",
              "      <td>0</td>\n",
              "      <td>0</td>\n",
              "      <td>0</td>\n",
              "      <td>0</td>\n",
              "      <td>0</td>\n",
              "      <td>0</td>\n",
              "      <td>1</td>\n",
              "      <td>0</td>\n",
              "      <td>0</td>\n",
              "      <td>...</td>\n",
              "      <td>0</td>\n",
              "      <td>0</td>\n",
              "      <td>0</td>\n",
              "      <td>0</td>\n",
              "      <td>0</td>\n",
              "      <td>0</td>\n",
              "      <td>0</td>\n",
              "      <td>1</td>\n",
              "      <td>0</td>\n",
              "      <td>negative</td>\n",
              "    </tr>\n",
              "    <tr>\n",
              "      <th>8990</th>\n",
              "      <td>0</td>\n",
              "      <td>0</td>\n",
              "      <td>0</td>\n",
              "      <td>0</td>\n",
              "      <td>0</td>\n",
              "      <td>0</td>\n",
              "      <td>0</td>\n",
              "      <td>0</td>\n",
              "      <td>0</td>\n",
              "      <td>0</td>\n",
              "      <td>...</td>\n",
              "      <td>0</td>\n",
              "      <td>0</td>\n",
              "      <td>0</td>\n",
              "      <td>0</td>\n",
              "      <td>0</td>\n",
              "      <td>0</td>\n",
              "      <td>0</td>\n",
              "      <td>0</td>\n",
              "      <td>0</td>\n",
              "      <td>negative</td>\n",
              "    </tr>\n",
              "    <tr>\n",
              "      <th>8991</th>\n",
              "      <td>0</td>\n",
              "      <td>0</td>\n",
              "      <td>1</td>\n",
              "      <td>0</td>\n",
              "      <td>0</td>\n",
              "      <td>0</td>\n",
              "      <td>0</td>\n",
              "      <td>0</td>\n",
              "      <td>0</td>\n",
              "      <td>0</td>\n",
              "      <td>...</td>\n",
              "      <td>1</td>\n",
              "      <td>0</td>\n",
              "      <td>0</td>\n",
              "      <td>0</td>\n",
              "      <td>0</td>\n",
              "      <td>0</td>\n",
              "      <td>0</td>\n",
              "      <td>0</td>\n",
              "      <td>0</td>\n",
              "      <td>negative</td>\n",
              "    </tr>\n",
              "  </tbody>\n",
              "</table>\n",
              "<p>8992 rows × 1025 columns</p>\n",
              "</div>\n",
              "      <button class=\"colab-df-convert\" onclick=\"convertToInteractive('df-4ea750eb-8477-493f-99f5-977354dc49e3')\"\n",
              "              title=\"Convert this dataframe to an interactive table.\"\n",
              "              style=\"display:none;\">\n",
              "        \n",
              "  <svg xmlns=\"http://www.w3.org/2000/svg\" height=\"24px\"viewBox=\"0 0 24 24\"\n",
              "       width=\"24px\">\n",
              "    <path d=\"M0 0h24v24H0V0z\" fill=\"none\"/>\n",
              "    <path d=\"M18.56 5.44l.94 2.06.94-2.06 2.06-.94-2.06-.94-.94-2.06-.94 2.06-2.06.94zm-11 1L8.5 8.5l.94-2.06 2.06-.94-2.06-.94L8.5 2.5l-.94 2.06-2.06.94zm10 10l.94 2.06.94-2.06 2.06-.94-2.06-.94-.94-2.06-.94 2.06-2.06.94z\"/><path d=\"M17.41 7.96l-1.37-1.37c-.4-.4-.92-.59-1.43-.59-.52 0-1.04.2-1.43.59L10.3 9.45l-7.72 7.72c-.78.78-.78 2.05 0 2.83L4 21.41c.39.39.9.59 1.41.59.51 0 1.02-.2 1.41-.59l7.78-7.78 2.81-2.81c.8-.78.8-2.07 0-2.86zM5.41 20L4 18.59l7.72-7.72 1.47 1.35L5.41 20z\"/>\n",
              "  </svg>\n",
              "      </button>\n",
              "      \n",
              "  <style>\n",
              "    .colab-df-container {\n",
              "      display:flex;\n",
              "      flex-wrap:wrap;\n",
              "      gap: 12px;\n",
              "    }\n",
              "\n",
              "    .colab-df-convert {\n",
              "      background-color: #E8F0FE;\n",
              "      border: none;\n",
              "      border-radius: 50%;\n",
              "      cursor: pointer;\n",
              "      display: none;\n",
              "      fill: #1967D2;\n",
              "      height: 32px;\n",
              "      padding: 0 0 0 0;\n",
              "      width: 32px;\n",
              "    }\n",
              "\n",
              "    .colab-df-convert:hover {\n",
              "      background-color: #E2EBFA;\n",
              "      box-shadow: 0px 1px 2px rgba(60, 64, 67, 0.3), 0px 1px 3px 1px rgba(60, 64, 67, 0.15);\n",
              "      fill: #174EA6;\n",
              "    }\n",
              "\n",
              "    [theme=dark] .colab-df-convert {\n",
              "      background-color: #3B4455;\n",
              "      fill: #D2E3FC;\n",
              "    }\n",
              "\n",
              "    [theme=dark] .colab-df-convert:hover {\n",
              "      background-color: #434B5C;\n",
              "      box-shadow: 0px 1px 3px 1px rgba(0, 0, 0, 0.15);\n",
              "      filter: drop-shadow(0px 1px 2px rgba(0, 0, 0, 0.3));\n",
              "      fill: #FFFFFF;\n",
              "    }\n",
              "  </style>\n",
              "\n",
              "      <script>\n",
              "        const buttonEl =\n",
              "          document.querySelector('#df-4ea750eb-8477-493f-99f5-977354dc49e3 button.colab-df-convert');\n",
              "        buttonEl.style.display =\n",
              "          google.colab.kernel.accessAllowed ? 'block' : 'none';\n",
              "\n",
              "        async function convertToInteractive(key) {\n",
              "          const element = document.querySelector('#df-4ea750eb-8477-493f-99f5-977354dc49e3');\n",
              "          const dataTable =\n",
              "            await google.colab.kernel.invokeFunction('convertToInteractive',\n",
              "                                                     [key], {});\n",
              "          if (!dataTable) return;\n",
              "\n",
              "          const docLinkHtml = 'Like what you see? Visit the ' +\n",
              "            '<a target=\"_blank\" href=https://colab.research.google.com/notebooks/data_table.ipynb>data table notebook</a>'\n",
              "            + ' to learn more about interactive tables.';\n",
              "          element.innerHTML = '';\n",
              "          dataTable['output_type'] = 'display_data';\n",
              "          await google.colab.output.renderOutput(dataTable, element);\n",
              "          const docLink = document.createElement('div');\n",
              "          docLink.innerHTML = docLinkHtml;\n",
              "          element.appendChild(docLink);\n",
              "        }\n",
              "      </script>\n",
              "    </div>\n",
              "  </div>\n",
              "  "
            ]
          },
          "metadata": {},
          "execution_count": 10
        }
      ]
    },
    {
      "cell_type": "markdown",
      "source": [
        "##CLASS IMBALANCE DETECTION"
      ],
      "metadata": {
        "id": "QM5UgbBEOd5W"
      }
    },
    {
      "cell_type": "code",
      "source": [
        "positives = sum(df[1024]=='positive')\n",
        "negatives = sum(df[1024]=='negative')\n",
        "\n",
        "# plot bar plot\n",
        "plt.bar(['positive', 'negative'], [positives, negatives])\n",
        "plt.xlabel('Experimental Class')\n",
        "plt.ylabel('Count')\n",
        "plt.title('Class Distribution')\n",
        "plt.show()\n"
      ],
      "metadata": {
        "colab": {
          "base_uri": "https://localhost:8080/",
          "height": 295
        },
        "id": "6ZXkyy0pwdXj",
        "outputId": "455858ff-4e86-4032-8771-b81d1c904a99"
      },
      "execution_count": 11,
      "outputs": [
        {
          "output_type": "display_data",
          "data": {
            "text/plain": [
              "<Figure size 432x288 with 1 Axes>"
            ],
            "image/png": "[encoded data removed]"
          },
          "metadata": {
            "needs_background": "light"
          }
        }
      ]
    },
    {
      "cell_type": "markdown",
      "source": [
        "##LABEL ENCODING FOR TARGET CLASS"
      ],
      "metadata": {
        "id": "UxRNc5SAOmBS"
      }
    },
    {
      "cell_type": "code",
      "source": [
        "# create an instance of LabelEncoder\n",
        "le = LabelEncoder()\n",
        "\n",
        "# fit and transform the column of categorical data\n",
        "df[1024] = le.fit_transform(df[1024])\n",
        "\n",
        "\n",
        "df[1024]"
      ],
      "metadata": {
        "colab": {
          "base_uri": "https://localhost:8080/"
        },
        "id": "R1wBJdmwleL5",
        "outputId": "7e98c4fd-ffb0-4ef5-94b9-929ac7884c66"
      },
      "execution_count": 12,
      "outputs": [
        {
          "output_type": "execute_result",
          "data": {
            "text/plain": [
              "0       0\n",
              "1       0\n",
              "2       0\n",
              "3       0\n",
              "4       0\n",
              "       ..\n",
              "8987    0\n",
              "8988    0\n",
              "8989    0\n",
              "8990    0\n",
              "8991    0\n",
              "Name: 1024, Length: 8992, dtype: int64"
            ]
          },
          "metadata": {},
          "execution_count": 12
        }
      ]
    },
    {
      "cell_type": "markdown",
      "source": [
        "##SCATTER PLOT"
      ],
      "metadata": {
        "id": "BUChVFYgW2nj"
      }
    },
    {
      "cell_type": "code",
      "source": [
        "x1= [i for i in range(1024)] # x-coordinates\n",
        "y1 = [df[i][1024] for i in range(1024)] # y-coordinates\n",
        "\n",
        "colors = []\n",
        "for j in y1:\n",
        "  if j == 0:\n",
        "    colors.append('red')\n",
        "  else:\n",
        "    colors.append('yellow')\n",
        "\n",
        "plt.scatter(x1, y1,c=colors)\n",
        "plt.xlabel('X Label')\n",
        "plt.ylabel('Y Label')\n",
        "plt.title('Scatter Plot')\n",
        "plt.show()\n"
      ],
      "metadata": {
        "colab": {
          "base_uri": "https://localhost:8080/",
          "height": 295
        },
        "id": "kUGauYzQNAe3",
        "outputId": "64c0ff73-3d96-4f2c-881d-de5b348be985"
      },
      "execution_count": 13,
      "outputs": [
        {
          "output_type": "display_data",
          "data": {
            "text/plain": [
              "<Figure size 432x288 with 1 Axes>"
            ],
            "image/png": "[encoded data removed]"
          },
          "metadata": {
            "needs_background": "light"
          }
        }
      ]
    },
    {
      "cell_type": "markdown",
      "source": [
        "### Defining X as Features and Y as Target"
      ],
      "metadata": {
        "id": "e6W1l7NbXBl-"
      }
    },
    {
      "cell_type": "code",
      "execution_count": 14,
      "metadata": {
        "id": "TuZqazsstdRx",
        "colab": {
          "base_uri": "https://localhost:8080/"
        },
        "outputId": "88be6380-8c4a-45f1-d10b-f946fc9f786e"
      },
      "outputs": [
        {
          "output_type": "stream",
          "name": "stdout",
          "text": [
            "0       int64\n",
            "1       int64\n",
            "2       int64\n",
            "3       int64\n",
            "4       int64\n",
            "        ...  \n",
            "1019    int64\n",
            "1020    int64\n",
            "1021    int64\n",
            "1022    int64\n",
            "1023    int64\n",
            "Length: 1024, dtype: object\n"
          ]
        }
      ],
      "source": [
        "from sklearn.model_selection import train_test_split\n",
        "\n",
        "# feature and target variables\n",
        "X = df.iloc[:, :-1]\n",
        "y = df.iloc[:, -1]\n",
        "\n",
        "print(X.dtypes)\n",
        "\n"
      ]
    },
    {
      "cell_type": "code",
      "execution_count": 15,
      "metadata": {
        "id": "5qX2qBxcwKv5"
      },
      "outputs": [],
      "source": [
        "# split the data into training and testing sets\n",
        "X_train, X_test, y_train, y_test = train_test_split(X, y, test_size=0.2, random_state=100)\n"
      ]
    },
    {
      "cell_type": "markdown",
      "source": [
        "SMOTE AND ADASYN for imbalanced dataset"
      ],
      "metadata": {
        "id": "CYhfT4hybPsF"
      }
    },
    {
      "cell_type": "code",
      "source": [
        "# apply SMOTE to the training data only\n",
        "smote = SMOTE(random_state=42)\n",
        "X_train1, y_train1 = smote.fit_resample(X_train, y_train)\n",
        "\n",
        "# apply ADASYN to the training data only\n",
        "adasyn = ADASYN(random_state=42)\n",
        "X_train_resampled, y_train_resampled = adasyn.fit_resample(X_train, y_train)"
      ],
      "metadata": {
        "id": "nL6z2XiUQ8m0"
      },
      "execution_count": 16,
      "outputs": []
    },
    {
      "cell_type": "markdown",
      "source": [
        "##KNN algorithm for SMOTE"
      ],
      "metadata": {
        "id": "JjbGko0yuMCx"
      }
    },
    {
      "cell_type": "code",
      "source": [
        "knn = KNeighborsClassifier(n_neighbors=3)\n",
        "knn.fit(X_train1, y_train1)\n",
        "\n",
        "knn_pred = knn.predict(X_test)\n",
        "\n",
        "#calculate the accuracy score for SMOTE\n",
        "acc = accuracy_score(y_test, knn_pred)\n",
        "print(\"Accuracy: {:.2f}%\".format(acc * 100))\n",
        "\n",
        "print(classification_report(y_test, knn_pred))\n",
        "loss = log_loss(y_test, knn_pred)\n",
        "print(\"Cross-entropy Loss:\", loss)\n",
        "\n",
        "# calculate false positive rate (fpr), true positive rate (tpr), and threshold values\n",
        "fpr, tpr, thresholds = roc_curve(y_test, knn_pred)\n",
        "\n",
        "# calculate area under the curve (AUC)\n",
        "roc_auc = auc(fpr, tpr)\n",
        "\n",
        "# plot ROC curve\n",
        "plt.figure()\n",
        "plt.plot(fpr, tpr, color='darkorange', lw=2, label='ROC curve (area = %0.2f)' % roc_auc)\n",
        "plt.plot([0, 1], [0, 1], color='navy', lw=2, linestyle='--')\n",
        "plt.xlim([0.0, 1.0])\n",
        "plt.ylim([0.0, 1.05])\n",
        "plt.xlabel('False Positive Rate')\n",
        "plt.ylabel('True Positive Rate')\n",
        "plt.title('Receiver Operating Characteristic (ROC) Curve')\n",
        "plt.legend(loc=\"lower right\")\n",
        "plt.show()\n",
        "\n",
        "\n"
      ],
      "metadata": {
        "colab": {
          "base_uri": "https://localhost:8080/",
          "height": 494
        },
        "id": "Zl6VFFMab5iZ",
        "outputId": "d1021575-376e-4395-c319-d9ea5d07f5a6"
      },
      "execution_count": 17,
      "outputs": [
        {
          "output_type": "stream",
          "name": "stdout",
          "text": [
            "Accuracy: 76.38%\n",
            "              precision    recall  f1-score   support\n",
            "\n",
            "           0       0.98      0.76      0.85      1650\n",
            "           1       0.23      0.81      0.36       149\n",
            "\n",
            "    accuracy                           0.76      1799\n",
            "   macro avg       0.61      0.79      0.61      1799\n",
            "weighted avg       0.92      0.76      0.81      1799\n",
            "\n",
            "Cross-entropy Loss: 8.515037626667475\n"
          ]
        },
        {
          "output_type": "display_data",
          "data": {
            "text/plain": [
              "<Figure size 432x288 with 1 Axes>"
            ],
            "image/png": "[encoded data removed]"
          },
          "metadata": {
            "needs_background": "light"
          }
        }
      ]
    },
    {
      "cell_type": "markdown",
      "source": [
        "##KNN algorithm for ADASYN"
      ],
      "metadata": {
        "id": "I09OdygvuUWN"
      }
    },
    {
      "cell_type": "code",
      "source": [
        "knn1 = KNeighborsClassifier(n_neighbors=3)\n",
        "knn1.fit(X_train_resampled, y_train_resampled)\n",
        "knn_pred1 = knn1.predict(X_test)\n",
        "#calculate the accuracy score for ADASYN\n",
        "acc = accuracy_score(y_test, knn_pred1)\n",
        "print(\"Accuracy: {:.2f}%\".format(acc * 100))\n",
        "\n",
        "print(classification_report(y_test, knn_pred1))\n",
        "loss = log_loss(y_test, knn_pred1)\n",
        "print(\"Cross-entropy Loss:\", loss)\n",
        "\n",
        "\n",
        "# calculate false positive rate (fpr), true positive rate (tpr), and threshold values\n",
        "fpr, tpr, thresholds = roc_curve(y_test, knn_pred1)\n",
        "\n",
        "# calculate area under the curve (AUC)\n",
        "roc_auc = auc(fpr, tpr)\n",
        "\n",
        "# plot ROC curve\n",
        "plt.figure()\n",
        "plt.plot(fpr, tpr, color='darkorange', lw=2, label='ROC curve (area = %0.2f)' % roc_auc)\n",
        "plt.plot([0, 1], [0, 1], color='navy', lw=2, linestyle='--')\n",
        "plt.xlim([0.0, 1.0])\n",
        "plt.ylim([0.0, 1.05])\n",
        "plt.xlabel('False Positive Rate')\n",
        "plt.ylabel('True Positive Rate')\n",
        "plt.title('Receiver Operating Characteristic (ROC) Curve')\n",
        "plt.legend(loc=\"lower right\")\n",
        "plt.show()\n",
        "\n",
        "\n",
        "\n"
      ],
      "metadata": {
        "colab": {
          "base_uri": "https://localhost:8080/",
          "height": 494
        },
        "id": "qNJm8-exgGL5",
        "outputId": "30ccd12b-597c-4bdd-80d9-eb5fe82f2f92"
      },
      "execution_count": 18,
      "outputs": [
        {
          "output_type": "stream",
          "name": "stdout",
          "text": [
            "Accuracy: 74.54%\n",
            "              precision    recall  f1-score   support\n",
            "\n",
            "           0       0.98      0.74      0.84      1650\n",
            "           1       0.22      0.83      0.35       149\n",
            "\n",
            "    accuracy                           0.75      1799\n",
            "   macro avg       0.60      0.78      0.60      1799\n",
            "weighted avg       0.92      0.75      0.80      1799\n",
            "\n",
            "Cross-entropy Loss: 9.176205254149892\n"
          ]
        },
        {
          "output_type": "display_data",
          "data": {
            "text/plain": [
              "<Figure size 432x288 with 1 Axes>"
            ],
            "image/png": "[encoded data removed]"
          },
          "metadata": {
            "needs_background": "light"
          }
        }
      ]
    },
    {
      "cell_type": "markdown",
      "source": [
        "##XGB Classifier for SMOTE"
      ],
      "metadata": {
        "id": "Myz1ffHSucS-"
      }
    },
    {
      "cell_type": "code",
      "execution_count": 19,
      "metadata": {
        "id": "blO1y5s6215z",
        "colab": {
          "base_uri": "https://localhost:8080/",
          "height": 494
        },
        "outputId": "b6602138-9c8c-44cf-dfe7-52b6916dafad"
      },
      "outputs": [
        {
          "output_type": "stream",
          "name": "stdout",
          "text": [
            "Accuracy: 91.16%\n",
            "              precision    recall  f1-score   support\n",
            "\n",
            "           0       0.96      0.94      0.95      1650\n",
            "           1       0.47      0.55      0.51       149\n",
            "\n",
            "    accuracy                           0.91      1799\n",
            "   macro avg       0.72      0.75      0.73      1799\n",
            "weighted avg       0.92      0.91      0.91      1799\n",
            "\n"
          ]
        },
        {
          "output_type": "display_data",
          "data": {
            "text/plain": [
              "<Figure size 432x288 with 1 Axes>"
            ],
            "image/png": "[encoded data removed]"
          },
          "metadata": {
            "needs_background": "light"
          }
        },
        {
          "output_type": "stream",
          "name": "stdout",
          "text": [
            "Cross-entropy Loss: 3.185625841506185\n"
          ]
        }
      ],
      "source": [
        "xgb_model = xgb.XGBClassifier(max_depth=3, n_estimators=500, learning_rate=0.1)\n",
        "\n",
        "xgb_model.fit(X_train1, y_train1)\n",
        "xgb_pred = xgb_model.predict(X_test)\n",
        "\n",
        "\n",
        "\n",
        "#calculate the accuracy score for SMOTE\n",
        "acc = accuracy_score(y_test, xgb_pred)\n",
        "print(\"Accuracy: {:.2f}%\".format(acc * 100))\n",
        "\n",
        "print(classification_report(y_test, xgb_pred))\n",
        "\n",
        "# calculate false positive rate (fpr), true positive rate (tpr), and threshold values\n",
        "fpr, tpr, thresholds = roc_curve(y_test, xgb_pred)\n",
        "\n",
        "# calculate area under the curve (AUC)\n",
        "roc_auc = auc(fpr, tpr)\n",
        "\n",
        "# plot ROC curve\n",
        "plt.figure()\n",
        "plt.plot(fpr, tpr, color='darkorange', lw=2, label='ROC curve (area = %0.2f)' % roc_auc)\n",
        "plt.plot([0, 1], [0, 1], color='navy', lw=2, linestyle='--')\n",
        "plt.xlim([0.0, 1.0])\n",
        "plt.ylim([0.0, 1.05])\n",
        "plt.xlabel('False Positive Rate')\n",
        "plt.ylabel('True Positive Rate')\n",
        "plt.title('Receiver Operating Characteristic (ROC) Curve')\n",
        "plt.legend(loc=\"lower right\")\n",
        "plt.show()\n",
        "\n",
        "loss = log_loss(y_test, xgb_pred)\n",
        "print(\"Cross-entropy Loss:\", loss)\n"
      ]
    },
    {
      "cell_type": "markdown",
      "source": [
        "##XGB Classifier for ADASYN "
      ],
      "metadata": {
        "id": "HTsKWx1VujZy"
      }
    },
    {
      "cell_type": "code",
      "execution_count": 20,
      "metadata": {
        "id": "v50tVaRE25tc",
        "colab": {
          "base_uri": "https://localhost:8080/",
          "height": 494
        },
        "outputId": "f2812db5-d36c-46ff-8092-2aab9c5ec477"
      },
      "outputs": [
        {
          "output_type": "stream",
          "name": "stdout",
          "text": [
            "Accuracy: 90.66%\n",
            "              precision    recall  f1-score   support\n",
            "\n",
            "           0       0.96      0.94      0.95      1650\n",
            "           1       0.45      0.57      0.50       149\n",
            "\n",
            "    accuracy                           0.91      1799\n",
            "   macro avg       0.70      0.75      0.73      1799\n",
            "weighted avg       0.92      0.91      0.91      1799\n",
            "\n",
            "Cross-entropy Loss: 3.365944285365026\n"
          ]
        },
        {
          "output_type": "display_data",
          "data": {
            "text/plain": [
              "<Figure size 432x288 with 1 Axes>"
            ],
            "image/png": "[encoded data removed]"
          },
          "metadata": {
            "needs_background": "light"
          }
        }
      ],
      "source": [
        "xgb_model1 = xgb.XGBClassifier(max_depth=3, n_estimators=500, learning_rate=0.1)\n",
        "\n",
        "xgb_model1.fit(X_train_resampled, y_train_resampled)\n",
        "xgb_pred1 = xgb_model1.predict(X_test)\n",
        "#calculate the accuracy score for ADASYN\n",
        "acc = accuracy_score(y_test, xgb_pred1)\n",
        "print(\"Accuracy: {:.2f}%\".format(acc * 100))\n",
        "\n",
        "print(classification_report(y_test, xgb_pred1))\n",
        "\n",
        "loss = log_loss(y_test, xgb_pred1)\n",
        "print(\"Cross-entropy Loss:\", loss)\n",
        "\n",
        "\n",
        "# calculate false positive rate (fpr), true positive rate (tpr), and threshold values\n",
        "fpr, tpr, thresholds = roc_curve(y_test, xgb_pred1)\n",
        "\n",
        "# calculate area under the curve (AUC)\n",
        "roc_auc = auc(fpr, tpr)\n",
        "\n",
        "# plot ROC curve\n",
        "plt.figure()\n",
        "plt.plot(fpr, tpr, color='darkorange', lw=2, label='ROC curve (area = %0.2f)' % roc_auc)\n",
        "plt.plot([0, 1], [0, 1], color='navy', lw=2, linestyle='--')\n",
        "plt.xlim([0.0, 1.0])\n",
        "plt.ylim([0.0, 1.05])\n",
        "plt.xlabel('False Positive Rate')\n",
        "plt.ylabel('True Positive Rate')\n",
        "plt.title('Receiver Operating Characteristic (ROC) Curve')\n",
        "plt.legend(loc=\"lower right\")\n",
        "plt.show()\n"
      ]
    },
    {
      "cell_type": "code",
      "source": [
        "# from sklearn.model_selection import cross_val_score\n",
        "\n",
        "# # Define the random forest model with a fixed max_depth\n",
        "# max_depth = 5\n",
        "# rf_model = RandomForestClassifier(max_depth=max_depth)\n",
        "\n",
        "# # Define the range of n_estimators values to test\n",
        "# n_estimators_range = [50, 100, 150, 200, 250, 300]\n",
        "\n",
        "# # Perform cross-validation for each n_estimators value\n",
        "# cv_scores = []\n",
        "# for n_estimators in n_estimators_range:\n",
        "#     rf_model.set_params(n_estimators=n_estimators)\n",
        "#     scores = cross_val_score(rf_model, X_train1, y_train1, cv=5)\n",
        "#     cv_scores.append(scores.mean())\n",
        "\n",
        "# # Find the n_estimators value with the highest cross-validation score\n",
        "# optimum_n_estimators = n_estimators_range[cv_scores.index(max(cv_scores))]\n",
        "\n",
        "# print(f\"The optimum number of n_estimators is {optimum_n_estimators}\")"
      ],
      "metadata": {
        "id": "QJ5jmLP2lI32"
      },
      "execution_count": 21,
      "outputs": []
    },
    {
      "cell_type": "markdown",
      "source": [
        "##Random Forest Classifier for SMOTE\n",
        "\n"
      ],
      "metadata": {
        "id": "FGjlof8xusRQ"
      }
    },
    {
      "cell_type": "code",
      "execution_count": 22,
      "metadata": {
        "id": "wv7UvFMO3E3S",
        "outputId": "e94c90df-d053-4d10-eb16-18f27c74edb9",
        "colab": {
          "base_uri": "https://localhost:8080/",
          "height": 494
        }
      },
      "outputs": [
        {
          "output_type": "stream",
          "name": "stdout",
          "text": [
            "Accuracy: 78.71%\n",
            "              precision    recall  f1-score   support\n",
            "\n",
            "           0       0.97      0.80      0.87      1650\n",
            "           1       0.23      0.69      0.35       149\n",
            "\n",
            "    accuracy                           0.79      1799\n",
            "   macro avg       0.60      0.74      0.61      1799\n",
            "weighted avg       0.91      0.79      0.83      1799\n",
            "\n",
            "Cross-entropy Loss: 7.6735515553262195\n"
          ]
        },
        {
          "output_type": "display_data",
          "data": {
            "text/plain": [
              "<Figure size 432x288 with 1 Axes>"
            ],
            "image/png": "[encoded data removed]"
          },
          "metadata": {
            "needs_background": "light"
          }
        }
      ],
      "source": [
        "# create a RandomForestClassifier object with desired hyperparameters\n",
        "rf_model = RandomForestClassifier(n_estimators=500, max_depth=5)\n",
        "# fit the model to the training data\n",
        "rf_model.fit(X_train1, y_train1)\n",
        "\n",
        "rf_pred = rf_model.predict(X_test)\n",
        "\n",
        "acc2 = accuracy_score(y_test, rf_pred)\n",
        "print(\"Accuracy: {:.2f}%\".format(acc2 * 100))\n",
        "\n",
        "print(classification_report(y_test, rf_pred))\n",
        "\n",
        "loss = log_loss(y_test, rf_pred)\n",
        "print(\"Cross-entropy Loss:\", loss)\n",
        "\n",
        "# calculate false positive rate (fpr), true positive rate (tpr), and threshold values\n",
        "fpr, tpr, thresholds = roc_curve(y_test, rf_pred)\n",
        "\n",
        "# calculate area under the curve (AUC)\n",
        "roc_auc = auc(fpr, tpr)\n",
        "\n",
        "# plot ROC curve\n",
        "plt.figure()\n",
        "plt.plot(fpr, tpr, color='darkorange', lw=2, label='ROC curve (area = %0.2f)' % roc_auc)\n",
        "plt.plot([0, 1], [0, 1], color='navy', lw=2, linestyle='--')\n",
        "plt.xlim([0.0, 1.0])\n",
        "plt.ylim([0.0, 1.05])\n",
        "plt.xlabel('False Positive Rate')\n",
        "plt.ylabel('True Positive Rate')\n",
        "plt.title('Receiver Operating Characteristic (ROC) Curve')\n",
        "plt.legend(loc=\"lower right\")\n",
        "plt.show()"
      ]
    },
    {
      "cell_type": "code",
      "source": [
        "rf_model1 = RandomForestClassifier(n_estimators=300, max_depth=5)\n",
        "rf_model1.fit(X_train_resampled, y_train_resampled)\n",
        "\n",
        "# make predictions on the test data\n",
        "rf_pred1 = rf_model1.predict(X_test)\n",
        "\n",
        "#calculate the accuracy score\n",
        "acc2 = accuracy_score(y_test, rf_pred1)\n",
        "print(\"Accuracy: {:.2f}%\".format(acc2 * 100))\n",
        "\n",
        "print(classification_report(y_test, rf_pred1))\n",
        "\n",
        "loss = log_loss(y_test, rf_pred1)\n",
        "print(\"Cross-entropy Loss:\", loss)\n",
        "\n",
        "# calculate false positive rate (fpr), true positive rate (tpr), and threshold values\n",
        "fpr, tpr, thresholds = roc_curve(y_test, rf_pred1)\n",
        "\n",
        "# calculate area under the curve (AUC)\n",
        "roc_auc = auc(fpr, tpr)\n",
        "\n",
        "# plot ROC curve\n",
        "plt.figure()\n",
        "plt.plot(fpr, tpr, color='darkorange', lw=2, label='ROC curve (area = %0.2f)' % roc_auc)\n",
        "plt.plot([0, 1], [0, 1], color='navy', lw=2, linestyle='--')\n",
        "plt.xlim([0.0, 1.0])\n",
        "plt.ylim([0.0, 1.05])\n",
        "plt.xlabel('False Positive Rate')\n",
        "plt.ylabel('True Positive Rate')\n",
        "plt.title('Receiver Operating Characteristic (ROC) Curve')\n",
        "plt.legend(loc=\"lower right\")\n",
        "plt.show()\n",
        "\n",
        "print(\"Cross-entropy Loss:\", loss)\n",
        "\n"
      ],
      "metadata": {
        "id": "LsG-t3Lhj4Rh",
        "colab": {
          "base_uri": "https://localhost:8080/",
          "height": 512
        },
        "outputId": "a10d4383-7fa2-419e-aa59-a29476918cbc"
      },
      "execution_count": 23,
      "outputs": [
        {
          "output_type": "stream",
          "name": "stdout",
          "text": [
            "Accuracy: 74.43%\n",
            "              precision    recall  f1-score   support\n",
            "\n",
            "           0       0.96      0.76      0.84      1650\n",
            "           1       0.18      0.61      0.28       149\n",
            "\n",
            "    accuracy                           0.74      1799\n",
            "   macro avg       0.57      0.68      0.56      1799\n",
            "weighted avg       0.89      0.74      0.80      1799\n",
            "\n",
            "Cross-entropy Loss: 9.216276019451856\n"
          ]
        },
        {
          "output_type": "display_data",
          "data": {
            "text/plain": [
              "<Figure size 432x288 with 1 Axes>"
            ],
            "image/png": "[encoded data removed]"
          },
          "metadata": {
            "needs_background": "light"
          }
        },
        {
          "output_type": "stream",
          "name": "stdout",
          "text": [
            "Cross-entropy Loss: 9.216276019451856\n"
          ]
        }
      ]
    }
  ],
  "metadata": {
    "colab": {
      "provenance": []
    },
    "kernelspec": {
      "display_name": "Python 3",
      "name": "python3"
    },
    "language_info": {
      "name": "python"
    }
  },
  "nbformat": 4,
  "nbformat_minor": 0
}